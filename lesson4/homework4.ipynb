{
 "cells": [
  {
   "cell_type": "markdown",
   "metadata": {},
   "source": [
    "### Домашка 4"
   ]
  },
  {
   "cell_type": "markdown",
   "metadata": {},
   "source": [
    "1) Написать приложение, которое собирает основные новости с сайтов news.mail.ru, lenta.ru, yandex.news\n",
    "Для парсинга использовать xpath. Структура данных должна содержать:\n",
    "название источника,\n",
    "наименование новости,\n",
    "ссылку на новость,\n",
    "дата публикации\n",
    "\n",
    "2) Сложить все новости в БД"
   ]
  },
  {
   "cell_type": "code",
   "execution_count": 1,
   "metadata": {},
   "outputs": [],
   "source": [
    "from lxml import html\n",
    "import requests\n",
    "import datetime"
   ]
  },
  {
   "cell_type": "code",
   "execution_count": 2,
   "metadata": {},
   "outputs": [],
   "source": [
    "header = {'User-Agent':'Mozilla/5.0 (Windows NT 6.3; Win64; x64) AppleWebKit/537.36 (KHTML, like Gecko) Chrome/83.0.4103.116 Safari/537.36'}"
   ]
  },
  {
   "cell_type": "code",
   "execution_count": 3,
   "metadata": {},
   "outputs": [],
   "source": [
    "from pymongo import MongoClient\n",
    "from pymongo import errors\n",
    "\n",
    "client = MongoClient('localhost', 27017)\n",
    "db = client['news']"
   ]
  },
  {
   "cell_type": "code",
   "execution_count": 4,
   "metadata": {},
   "outputs": [],
   "source": [
    "def add_new_into_db(collection, new: dict):\n",
    "    \"\"\"\n",
    "    Функция добавляет одну новость в базу данных монго\n",
    "    \"\"\"\n",
    "    \n",
    "    if collection.count_documents({'href': new['href']}) == 0:\n",
    "        collection.insert_one(new)\n",
    "    "
   ]
  },
  {
   "cell_type": "markdown",
   "metadata": {},
   "source": [
    "#### lenta.ru"
   ]
  },
  {
   "cell_type": "code",
   "execution_count": 40,
   "metadata": {},
   "outputs": [],
   "source": [
    "response = requests.get('https://lenta.ru/', headers=header)\n",
    "dom = html.fromstring(response.text)\n",
    "\n",
    "items = dom.xpath(\"//div[contains(@class, 'js-main__content')]/section/div[2]/div\")\n",
    "for item in items:\n",
    "    \n",
    "    new = {}\n",
    "    \n",
    "    tittle = item.xpath(\".//a[contains(@href, '/news/2')]/text()\") \n",
    "    href = item.xpath(\".//a[contains(@href, '/news/2')]/@href\") \n",
    "    \n",
    "    if len(tittle) == 0:\n",
    "        continue\n",
    "        \n",
    "    new['source'] = 'lenta.ru'\n",
    "    new['tittle'] = tittle[0].replace('\\xa0', ' ')\n",
    "    new['href'] = 'https://lenta.ru' + href[0]\n",
    "    new['date'] = datetime.datetime.strptime(href[0][6:16], '%Y/%m/%d')     \n",
    "\n",
    "    add_new_into_db(db.lenta_ru, new)\n",
    "    "
   ]
  },
  {
   "cell_type": "markdown",
   "metadata": {},
   "source": [
    "#### news.mail.ru"
   ]
  },
  {
   "cell_type": "code",
   "execution_count": 39,
   "metadata": {},
   "outputs": [
    {
     "ename": "IndexError",
     "evalue": "list index out of range",
     "output_type": "error",
     "traceback": [
      "\u001b[1;31m---------------------------------------------------------------------------\u001b[0m",
      "\u001b[1;31mIndexError\u001b[0m                                Traceback (most recent call last)",
      "\u001b[1;32m<ipython-input-39-ffdd445e2c59>\u001b[0m in \u001b[0;36m<module>\u001b[1;34m\u001b[0m\n\u001b[0;32m     26\u001b[0m         \u001b[0mnew\u001b[0m\u001b[1;33m[\u001b[0m\u001b[1;34m'date'\u001b[0m\u001b[1;33m]\u001b[0m \u001b[1;33m=\u001b[0m \u001b[0mdatetime\u001b[0m\u001b[1;33m.\u001b[0m\u001b[0mdatetime\u001b[0m\u001b[1;33m.\u001b[0m\u001b[0mstrptime\u001b[0m\u001b[1;33m(\u001b[0m\u001b[0mdate\u001b[0m\u001b[1;33m[\u001b[0m\u001b[1;36m0\u001b[0m\u001b[1;33m]\u001b[0m\u001b[1;33m[\u001b[0m\u001b[1;33m:\u001b[0m\u001b[1;36m10\u001b[0m\u001b[1;33m]\u001b[0m\u001b[1;33m,\u001b[0m \u001b[1;34m'%Y-%m-%d'\u001b[0m\u001b[1;33m)\u001b[0m\u001b[1;33m\u001b[0m\u001b[1;33m\u001b[0m\u001b[0m\n\u001b[0;32m     27\u001b[0m \u001b[1;33m\u001b[0m\u001b[0m\n\u001b[1;32m---> 28\u001b[1;33m     \u001b[0mnew\u001b[0m\u001b[1;33m[\u001b[0m\u001b[1;34m'source'\u001b[0m\u001b[1;33m]\u001b[0m \u001b[1;33m=\u001b[0m \u001b[0msource\u001b[0m\u001b[1;33m[\u001b[0m\u001b[1;36m0\u001b[0m\u001b[1;33m]\u001b[0m\u001b[1;33m\u001b[0m\u001b[1;33m\u001b[0m\u001b[0m\n\u001b[0m\u001b[0;32m     29\u001b[0m \u001b[1;33m\u001b[0m\u001b[0m\n\u001b[0;32m     30\u001b[0m     \u001b[0madd_new_into_db\u001b[0m\u001b[1;33m(\u001b[0m\u001b[0mdb\u001b[0m\u001b[1;33m.\u001b[0m\u001b[0mmail_news\u001b[0m\u001b[1;33m,\u001b[0m \u001b[0mnew\u001b[0m\u001b[1;33m)\u001b[0m\u001b[1;33m\u001b[0m\u001b[1;33m\u001b[0m\u001b[0m\n",
      "\u001b[1;31mIndexError\u001b[0m: list index out of range"
     ]
    }
   ],
   "source": [
    "response = requests.get('https://news.mail.ru/', headers=header)\n",
    "dom = html.fromstring(response.text)\n",
    "\n",
    "news = []\n",
    "items = dom.xpath(\"//ul[contains(@data-module, 'TrackBlocks')]/li\")\n",
    "for item in items:\n",
    "    \n",
    "    new = {}\n",
    "    \n",
    "    tittle = item.xpath(\".//a/text()\") \n",
    "    href = item.xpath(\".//a/@href\")\n",
    "\n",
    "    \n",
    "    new['tittle'] = tittle[0].replace('\\xa0', ' ')\n",
    "    new['href'] = 'https://news.mail.ru/' + href[0]\n",
    "    \n",
    "    response_item = requests.get(new['href'], headers=header)\n",
    "    dom_item = html.fromstring(response_item.text)\n",
    "    \n",
    "    date = dom_item.xpath(\"//div[contains(@class, 'breadcrumbs_article')]//span[contains(@datetime, '20')]/@datetime\") \n",
    "    source = dom_item.xpath(\"//div[contains(@class, 'breadcrumbs_article')]//span[contains(@class, 'link__text')]/text()\")\n",
    "    \n",
    "    if len(date) == 0:\n",
    "        new['date'] = datetime.datetime.today().replace(hour=0, minute=0, second=0, microsecond=0)\n",
    "    else:\n",
    "        new['date'] = datetime.datetime.strptime(date[0][:10], '%Y-%m-%d')  \n",
    "    \n",
    "    new['source'] = source[0]\n",
    "    \n",
    "    add_new_into_db(db.mail_news, new)\n",
    "    \n",
    "    "
   ]
  },
  {
   "cell_type": "markdown",
   "metadata": {},
   "source": [
    "#### yandex.ru/news"
   ]
  },
  {
   "cell_type": "code",
   "execution_count": 33,
   "metadata": {},
   "outputs": [],
   "source": [
    "response = requests.get('https://yandex.ru/news/', headers=header,)\n",
    "dom = html.fromstring(response.text)\n",
    "\n",
    "new = []\n",
    "items = dom.xpath(\"//div[contains(@class, 'story__topic')]\")\n",
    "for item in items:\n",
    "    \n",
    "    new = {}\n",
    "    tittle = item.xpath(\".//h2/a/text()\")\n",
    "    href = item.xpath(\".//h2/a/@href\")\n",
    "    \n",
    "    story_date = item.xpath(\"./..//div[contains(@class, 'story__date')]/text()\")\n",
    "\n",
    "    new['tittle'] = tittle[0]\n",
    "    new['href'] = 'https://yandex.ru' + href[0][0:href[0].find('?')]\n",
    "    new['source'] = source = story_date[0].replace(' вчера', '')[:-6]\n",
    "    \n",
    "    today = datetime.datetime.today()\n",
    "    today = today.replace(hour=0, minute=0, second=0, microsecond=0)\n",
    "    if  'вчера' not in story_date:\n",
    "        new['date'] = today - datetime.timedelta(1)\n",
    "    else:\n",
    "        new['date'] = today\n",
    "\n",
    "    add_new_into_db(db.yandex_news, new)\n",
    "\n"
   ]
  },
  {
   "cell_type": "code",
   "execution_count": null,
   "metadata": {},
   "outputs": [],
   "source": []
  }
 ],
 "metadata": {
  "kernelspec": {
   "display_name": "Python 3",
   "language": "python",
   "name": "python3"
  },
  "language_info": {
   "codemirror_mode": {
    "name": "ipython",
    "version": 3
   },
   "file_extension": ".py",
   "mimetype": "text/x-python",
   "name": "python",
   "nbconvert_exporter": "python",
   "pygments_lexer": "ipython3",
   "version": "3.7.6"
  }
 },
 "nbformat": 4,
 "nbformat_minor": 4
}

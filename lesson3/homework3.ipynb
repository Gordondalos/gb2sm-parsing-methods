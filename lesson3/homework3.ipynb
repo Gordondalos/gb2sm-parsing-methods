{
 "cells": [
  {
   "cell_type": "markdown",
   "metadata": {},
   "source": [
    "### Домашка 3"
   ]
  },
  {
   "cell_type": "markdown",
   "metadata": {},
   "source": [
    "1) Развернуть у себя на компьютере/виртуальной машине/хостинге MongoDB и реализовать функцию, записывающую собранные вакансии в созданную БД (без датафрейма)\n",
    "\n",
    "2) Написать функцию, которая производит поиск и выводит на экран вакансии с заработной платой больше введенной суммы. Поиск по двум полям (мин и макс зарплату)\n",
    "\n",
    "3) Написать функцию, которая будет добавлять в вашу базу данных только новые вакансии с сайта"
   ]
  },
  {
   "cell_type": "code",
   "execution_count": 314,
   "metadata": {},
   "outputs": [],
   "source": [
    "import numpy as np\n",
    "import pandas as pd\n",
    "from bs4 import BeautifulSoup as bs\n",
    "import requests"
   ]
  },
  {
   "cell_type": "code",
   "execution_count": 315,
   "metadata": {},
   "outputs": [],
   "source": [
    "from pymongo import MongoClient\n",
    "from pymongo import errors\n",
    "\n",
    "client = MongoClient('localhost', 27017)\n",
    "db = client['vacancies']"
   ]
  },
  {
   "cell_type": "markdown",
   "metadata": {},
   "source": [
    "#### Код добавления вакансий в MongoDB"
   ]
  },
  {
   "cell_type": "code",
   "execution_count": 316,
   "metadata": {},
   "outputs": [],
   "source": [
    "def add_one_vacancy_into_db(collection, vacancy: dict, replace_duplicates=False):\n",
    "    \"\"\"\n",
    "    Функция добавляет одну вакансию в mongodb в указанную коллекцию\n",
    "    Параметры: коллекция куда добавляем, вакансия (словарь), заменять ли дубли\n",
    "    Возвращает код результата: добавлено, заменено (был дубль), пропущено (был дубль)\n",
    "    \"\"\"\n",
    "    \n",
    "    result = None #возможные значения: inserted, replaced, skipped\n",
    "    \n",
    "    try:\n",
    "        collection.insert_one(vacancy)\n",
    "        result = 'inserted'\n",
    "    except errors.DuplicateKeyError: \n",
    "        \n",
    "        if replace_duplicates:\n",
    "            #обновляем (заменяем) дубль\n",
    "            collection.replace_one({'_id' : vacancy['_id']}, vacancy) \n",
    "            result = 'replaced'\n",
    "        else:\n",
    "            #такая вакансия уже добавлена, пропускаем ее\n",
    "            result = 'skipped'\n",
    "    return result"
   ]
  },
  {
   "cell_type": "code",
   "execution_count": 318,
   "metadata": {},
   "outputs": [],
   "source": [
    "def add_many_vacancies_into_db(collection, vacancies):\n",
    "    \"\"\"\n",
    "    Функция добавляет список вакансий в mongodb. Дубли не проверяются\n",
    "    Параметры: коллекция куда добавляем, список вакансий (каждая вакансия это словарь)\n",
    "    \"\"\"\n",
    "    collection.insert_many(vacancies)"
   ]
  },
  {
   "cell_type": "markdown",
   "metadata": {},
   "source": [
    "#### Код для HH.ru"
   ]
  },
  {
   "cell_type": "code",
   "execution_count": 319,
   "metadata": {},
   "outputs": [],
   "source": [
    "def parse_offer_hh(offer_text):\n",
    "    \"\"\"функция парсит строку с  зарплатой для hh.ru\"\"\"\n",
    "    \n",
    "    if offer_text is None:\n",
    "        return (None, None, None)\n",
    "    \n",
    "    offer_text = offer_text.replace(chr(160), '')\n",
    "    offer_text = offer_text.replace(chr(32), '')\n",
    "    offer_text = offer_text.replace('.', '')\n",
    "    \n",
    "    digits = '1234567890'\n",
    "    \n",
    "    #парсим вида 3000-4000руб\n",
    "    if offer_text[0] in digits:\n",
    "        sep_pos = offer_text.find('-')\n",
    "        min_offer = int(offer_text[:sep_pos])\n",
    "        txt = offer_text[sep_pos+1:]\n",
    "        \n",
    "        for i in range(0, len(txt)):\n",
    "            if txt[i] not in digits:\n",
    "                sep_pos = i\n",
    "                break\n",
    "                \n",
    "        max_offer = int(txt[:sep_pos])\n",
    "        currency = txt[sep_pos:]\n",
    "        \n",
    "        return (min_offer, max_offer, currency)\n",
    "\n",
    "    \n",
    "    #парсим вида от3000руб\n",
    "    if offer_text[:2] == 'от':\n",
    "        txt = offer_text[2:]  \n",
    "        \n",
    "        for i in range(0, len(txt)):\n",
    "            if txt[i] not in digits:\n",
    "                sep_pos = i\n",
    "                break\n",
    "                \n",
    "        min_offer = int(txt[:sep_pos])\n",
    "        max_offer = None\n",
    "        currency = txt[sep_pos:]\n",
    "        \n",
    "        return (min_offer, max_offer, currency)\n",
    "    \n",
    "    \n",
    "    #парсим вида до3000руб\n",
    "    if offer_text[:2] == 'до':\n",
    "        txt = offer_text[2:]  \n",
    "        \n",
    "        for i in range(0, len(txt)):\n",
    "            if txt[i] not in digits:\n",
    "                sep_pos = i\n",
    "                break\n",
    "                \n",
    "        min_offer = None\n",
    "        max_offer = int(txt[:sep_pos])\n",
    "        currency = txt[sep_pos:]\n",
    "        \n",
    "        return (min_offer, max_offer, currency)\n",
    "    \n",
    "    \n",
    "    #если остался вариант, который мы не учли, заносим его в currency\n",
    "    return (None,None,offer_text)\n"
   ]
  },
  {
   "cell_type": "code",
   "execution_count": 320,
   "metadata": {},
   "outputs": [],
   "source": [
    "def parse_id_from_href_hh(href):   \n",
    "    \"\"\"функция парсит id вакансии из ссыкли на эту вакансию для hh.ru\"\"\"\n",
    "    \n",
    "    tmp = href.replace('https://novosibirsk.hh.ru/vacancy/', '')\n",
    "    return tmp[:tmp.find('?')]\n"
   ]
  },
  {
   "cell_type": "code",
   "execution_count": 321,
   "metadata": {},
   "outputs": [],
   "source": [
    "def parse_hh(search_request, quick_adding=False, replace_duplicates=False):\n",
    "    \"\"\"\n",
    "    Фукнция парсит сайт hh.ru и добавляет вакансии в базу mongodb в отдельную коллекцию hh\n",
    "    Параметры:\n",
    "        search_request - поисковый запрос\n",
    "        quick_adding - быстрое добавление (используется insert_many) или медленное (insert_one),\n",
    "                       используется для первичного заполнения пустой коллекции,\n",
    "                       никак не обрабатывает дубли и выбрасывает ошибку в этом случае,\n",
    "                       медленное добавление проверяет дубли и может заменять или пропускать их\n",
    "        replace_duplicates - заменять дубли или нет,\n",
    "                             если заменять, то вакансия заменяется новой, иначе пропускается\n",
    "    \"\"\"\n",
    "    \n",
    "    \n",
    "    #подсчитаем сколько добавлено, заменено, пропущено\n",
    "    results = {'inserted' : 0, 'replaced' : 0, 'skipped' : 0}\n",
    "    \n",
    "    #сюда сложим вакансии для быстрого добавления методом insert_many\n",
    "    vacancies_dict = {}\n",
    "    \n",
    "    headers = {'user-agent': 'Mozilla/5.0 (Windows NT 6.3; Win64; x64) AppleWebKit/537.36 (KHTML, like Gecko) Chrome/83.0.4103.116 Safari/537.36'}\n",
    "\n",
    "    domain_url = 'https://novosibirsk.hh.ru'\n",
    "    local_url = '/search/vacancy'\n",
    "    \n",
    "    params = {'area' : '113',\n",
    "              'clusters' : 'true',\n",
    "              'enable_snippets' : 'true',\n",
    "              'text' : search_request,\n",
    "              'schedule' : 'remote'\n",
    "             }\n",
    "\n",
    "    is_last_page = False\n",
    "    while not is_last_page:\n",
    "        \n",
    "        response = requests.get(domain_url + local_url, headers=headers, params=params).text      \n",
    "        soup = bs(response, 'lxml')\n",
    "\n",
    "        vacancys_list = soup.find_all('div', {'class':'vacancy-serp-item'})\n",
    "\n",
    "        for vacancy in vacancys_list:\n",
    "            \n",
    "            tittle_tag = vacancy.find('a', {'data-qa':'vacancy-serp__vacancy-title'})\n",
    "            tittle = tittle_tag.getText().strip()                      \n",
    "            href = tittle_tag['href']\n",
    "            id = parse_id_from_href_hh(href)        \n",
    "            \n",
    "            company = vacancy.find('a', {'data-qa':'vacancy-serp__vacancy-employer'}).getText().strip()\n",
    "\n",
    "            offer_tag = vacancy.find('span', {'data-qa':'vacancy-serp__vacancy-compensation'})\n",
    "            offer_str = None if offer_tag == None else offer_tag.getText()\n",
    "\n",
    "            city = vacancy.find('span', {'data-qa':'vacancy-serp__vacancy-address'}).getText()\n",
    "\n",
    "            \n",
    "            block_date = vacancy.find('span', {'data-qa':'vacancy-serp__vacancy-date'})\n",
    "            date = None if block_date == None else block_date.getText().replace('\\xa0', ' ')\n",
    "\n",
    "            offer_min, offer_max, currency = parse_offer_hh(offer_str)\n",
    "\n",
    "            current_vacancy = {'_id' : id,\n",
    "                                    'tittle' : tittle,\n",
    "                                    'site': 'hh.ru',\n",
    "                                    'company' : company,\n",
    "                                    'offer_min' : offer_min,\n",
    "                                    'offer_max' : offer_max,\n",
    "                                    'currency' : currency,\n",
    "                                    'href' : href,\n",
    "                                    'city' : city,\n",
    "                                    'date' : date\n",
    "                                   }\n",
    "            \n",
    "            #добавляем вакансию в db (медленное добавление по одной)         \n",
    "            if not quick_adding:\n",
    "                result_code = add_one_vacancy_into_db(db.hh, current_vacancy, \n",
    "                                                     replace_duplicates=replace_duplicates)\n",
    "                results[result_code] += 1\n",
    "                \n",
    "            else:\n",
    "                vacancies_dict[current_vacancy['_id']] = current_vacancy\n",
    "\n",
    "        \n",
    "        next_page_tag = soup.find('a', {'data-qa':'pager-next'})\n",
    "        if next_page_tag == None:\n",
    "            is_last_page = True\n",
    "        else:\n",
    "            local_url = next_page_tag['href']\n",
    "            \n",
    "    if quick_adding:\n",
    "        #быстрое добавление все сразу\n",
    "        add_many_vacancies_into_db(db.hh, vacancies_dict.values())\n",
    "        print('inserted', len(vacancies_dict))\n",
    "    else:\n",
    "        print(results)"
   ]
  },
  {
   "cell_type": "markdown",
   "metadata": {},
   "source": [
    "#### Код для Superjob"
   ]
  },
  {
   "cell_type": "code",
   "execution_count": 322,
   "metadata": {},
   "outputs": [],
   "source": [
    "def parse_offer_superjob(offer_text):\n",
    "    \"\"\"функция парсит строку с  зарплатой для superjob.ru\"\"\"\n",
    "    \n",
    "    if offer_text == 'По договорённости':\n",
    "        return (None, None, None)\n",
    "    \n",
    "    digits = '1234567890'\n",
    "    \n",
    "    offer_text = offer_text.replace(chr(160), '')\n",
    "    offer_text = offer_text.replace('руб./месяц', '')    \n",
    "\n",
    "    \n",
    "    #парсим вида 3000-4000\n",
    "    if offer_text[0] in digits:\n",
    "        sep_pos = offer_text.find('—')\n",
    "        \n",
    "        min_offer = int(offer_text[:sep_pos])\n",
    "        max_offer = offer_text[sep_pos+1:]\n",
    "        currency = 'руб'\n",
    "        \n",
    "        return (min_offer, max_offer, currency)\n",
    "    \n",
    "    \n",
    "    #парсим вида от3000\n",
    "    if offer_text[:2] == 'от':\n",
    "        txt = offer_text[2:]  \n",
    "                \n",
    "        min_offer = int(txt)\n",
    "        max_offer = None\n",
    "        currency = 'руб'\n",
    "        \n",
    "        return (min_offer, max_offer, currency)\n",
    "    \n",
    "    \n",
    "    #парсим вида до3000\n",
    "    if offer_text[:2] == 'до':\n",
    "        txt = offer_text[2:]  \n",
    "                \n",
    "        min_offer = None\n",
    "        max_offer = int(txt)\n",
    "        currency = 'руб'\n",
    "        \n",
    "        return (min_offer, max_offer, currency)\n",
    "    \n",
    "    \n",
    "    #парсим вида 3000\n",
    "    if offer_text[0] in digits:\n",
    "        \n",
    "        min_offer = int(offer_text)\n",
    "        max_offer = int(offer_text)\n",
    "        currency = 'руб'\n",
    "        \n",
    "        return (min_offer, max_offer, currency)\n",
    "    \n",
    "    \n",
    "    #если остался вариант, который мы не учли, заносим его в currency\n",
    "    return (None,None,offer_text)\n"
   ]
  },
  {
   "cell_type": "code",
   "execution_count": 323,
   "metadata": {},
   "outputs": [],
   "source": [
    "def parse_id_from_href_superjob(href):   \n",
    "    \"\"\"функция парсит id вакансии из ссыкли на эту вакансию для superjob.ru\"\"\"\n",
    "    \n",
    "    tmp = href.replace('.html', '')\n",
    "    return tmp[tmp.rfind('-')+1:]"
   ]
  },
  {
   "cell_type": "code",
   "execution_count": 324,
   "metadata": {},
   "outputs": [],
   "source": [
    "def parse_superjob(search_link, quick_adding=False, replace_duplicates=False):\n",
    "   \n",
    "    \"\"\"\n",
    "    Фукнция парсит сайт superjob.ru и добавляет вакансии в базу mongodb в отдельную коллекцию hh\n",
    "    Параметры:\n",
    "        search_request - поисковый запрос\n",
    "        quick_adding - быстрое добавление (используется insert_many) или медленное (insert_one),\n",
    "                       используется для первичного заполнения пустой коллекции,\n",
    "                       никак не обрабатывает дубли и выбрасывает ошибку в этом случае,\n",
    "                       медленное добавление проверяет дубли и может заменять или пропускать их\n",
    "        replace_duplicates - заменять дубли или нет,\n",
    "                             если заменять, то вакансия заменяется новой, иначе пропускается\n",
    "    \"\"\"\n",
    "    \n",
    "    \n",
    "    #подсчитаем сколько добавлено, заменено, пропущено\n",
    "    results = {'inserted' : 0, 'replaced' : 0, 'skipped' : 0}\n",
    "    \n",
    "    #сюда сложим вакансии для быстрого добавления методом insert_many\n",
    "    vacancies_dict = {}\n",
    "\n",
    "\n",
    "    headers = {'user-agent': 'Mozilla/5.0 (Windows NT 6.3; Win64; x64) AppleWebKit/537.36 (KHTML, like Gecko) Chrome/83.0.4103.116 Safari/537.36'}\n",
    "\n",
    "    domain_url = 'https://russia.superjob.ru/'\n",
    "    \n",
    "\n",
    "    is_last_page = False\n",
    "    while not is_last_page:\n",
    "        \n",
    "\n",
    "        response = requests.get(domain_url + search_link, headers=headers).text    \n",
    "        soup = bs(response, 'lxml')\n",
    "\n",
    "        vacancys_list = soup.find_all('div', {'class':'_3zucV _1fMKr undefined _1NAsu'})\n",
    "\n",
    "        for vacancy in vacancys_list:\n",
    "\n",
    "            \n",
    "            block = vacancy.find('div', {'class':'jNMYr GPKTZ _1tH7S'})\n",
    "            if block == None:\n",
    "                continue\n",
    "\n",
    "\n",
    "            block_tittle = block.findChildren(recursive=False)[0].findChildren(recursive=False)[0]\n",
    "\n",
    "            tittle = block_tittle.getText()\n",
    "            href = block_tittle['href']\n",
    "            id = parse_id_from_href_superjob(href)\n",
    "\n",
    "            offer_str = vacancy.find('div', {'class':'jNMYr GPKTZ _1tH7S'}).findChildren(recursive=False)[1].getText()\n",
    "\n",
    "            block_company = vacancy.find('span', {'class':'f-test-text-vacancy-item-company-name'})\n",
    "            if block_company == None:\n",
    "                company = None\n",
    "            else:\n",
    "                company =  block_company.findChildren(recursive=False)[0].getText()\n",
    "\n",
    "            blocks_date_city = vacancy.find('span', {'class':'f-test-text-company-item-location'})\\\n",
    "                                                                        .findChildren(recursive=False)\n",
    "\n",
    "            date = blocks_date_city[0].getText()\n",
    "            city = blocks_date_city[2].getText()\n",
    "\n",
    "            offer_min, offer_max, currency = parse_offer_superjob(offer_str)\n",
    "\n",
    "\n",
    "            current_vacancy = {'_id' : id,\n",
    "                                    'tittle' : tittle,\n",
    "                                    'site': 'superjob.ru',\n",
    "                                    'company' : company,\n",
    "                                    'offer_min' : offer_min,\n",
    "                                    'offer_max' : offer_max,\n",
    "                                    'currency' : currency,\n",
    "                                    'href' : href,\n",
    "                                    'city' : city,\n",
    "                                    'date' : date\n",
    "                                   }\n",
    "            \n",
    "            #добавляем вакансию в db (медленное добавление по одной)         \n",
    "            if not quick_adding:\n",
    "                result_code = add_one_vacancy_into_db(db.superjob, current_vacancy, \n",
    "                                                     replace_duplicates=replace_duplicates)\n",
    "                results[result_code] += 1\n",
    "                \n",
    "            else:\n",
    "                vacancies_dict[current_vacancy['_id']] = current_vacancy\n",
    "\n",
    "\n",
    "        \n",
    "        break\n",
    "        \n",
    "        next_page_tag = soup.find('a', {'class':'f-test-button-dalshe'})\n",
    "        if next_page_tag == None:\n",
    "            is_last_page = True\n",
    "        else:\n",
    "            local_url = next_page_tag['href']\n",
    "\n",
    "    if quick_adding:\n",
    "        #быстрое добавление все сразу\n",
    "        add_many_vacancies_into_db(db.superjob, vacancies_dict.values())\n",
    "        print('inserted', len(vacancies_dict))\n",
    "    else:\n",
    "        print(results)\n"
   ]
  },
  {
   "cell_type": "markdown",
   "metadata": {},
   "source": [
    "### Основной код"
   ]
  },
  {
   "cell_type": "code",
   "execution_count": 325,
   "metadata": {},
   "outputs": [],
   "source": [
    "#поисковый запрос\n",
    "\n",
    "search_request_hh = 'программист 1С'\n",
    "\n",
    "# superjob  приводит запросы вида \"программист 1С\" и \"data science\" к виду \"programmist-1s\" и \"data-scientist\" \n",
    "# и вставляет их в хвост ссылки. В рамках домашки мы такое преобразование делать не будет\n",
    "search_request_superjob_link = '/vakansii/programmist-1s.html?remote_work_binary=2&click_from=facet'\n"
   ]
  },
  {
   "cell_type": "markdown",
   "metadata": {},
   "source": [
    "#### Первоначальное заполнение пачкой (дубли не проверяем)"
   ]
  },
  {
   "cell_type": "markdown",
   "metadata": {},
   "source": [
    "hh.ru"
   ]
  },
  {
   "cell_type": "code",
   "execution_count": 326,
   "metadata": {
    "scrolled": true
   },
   "outputs": [
    {
     "name": "stdout",
     "output_type": "stream",
     "text": [
      "inserted 240\n",
      "Wall time: 15 s\n"
     ]
    }
   ],
   "source": [
    "%%time\n",
    "\n",
    "parse_hh(search_request_hh, quick_adding=True)"
   ]
  },
  {
   "cell_type": "markdown",
   "metadata": {},
   "source": [
    "superjob.ru"
   ]
  },
  {
   "cell_type": "code",
   "execution_count": 327,
   "metadata": {},
   "outputs": [
    {
     "name": "stdout",
     "output_type": "stream",
     "text": [
      "inserted 20\n",
      "Wall time: 2.32 s\n"
     ]
    }
   ],
   "source": [
    "%%time\n",
    "parse_superjob(search_request_superjob_link, quick_adding=True)"
   ]
  },
  {
   "cell_type": "markdown",
   "metadata": {},
   "source": [
    "#### Регулярное заполнение (обновление) с заменой или обновление дублей"
   ]
  },
  {
   "cell_type": "markdown",
   "metadata": {},
   "source": [
    "hh.ru"
   ]
  },
  {
   "cell_type": "code",
   "execution_count": 329,
   "metadata": {
    "scrolled": true
   },
   "outputs": [
    {
     "name": "stdout",
     "output_type": "stream",
     "text": [
      "{'inserted': 63, 'replaced': 240, 'skipped': 0}\n",
      "Wall time: 14.8 s\n"
     ]
    }
   ],
   "source": [
    "%%time\n",
    "\n",
    "parse_hh(search_request_hh, quick_adding=False, replace_duplicates=True)"
   ]
  },
  {
   "cell_type": "markdown",
   "metadata": {},
   "source": [
    "superjob.ru"
   ]
  },
  {
   "cell_type": "code",
   "execution_count": 330,
   "metadata": {},
   "outputs": [
    {
     "name": "stdout",
     "output_type": "stream",
     "text": [
      "{'inserted': 2, 'replaced': 0, 'skipped': 18}\n",
      "Wall time: 3.03 s\n"
     ]
    }
   ],
   "source": [
    "%%time\n",
    "parse_superjob(search_request_superjob_link, quick_adding=False, replace_duplicates=False)"
   ]
  },
  {
   "cell_type": "code",
   "execution_count": null,
   "metadata": {},
   "outputs": [],
   "source": []
  },
  {
   "cell_type": "markdown",
   "metadata": {},
   "source": [
    "#### Извлекаем вакансии из базы по условию"
   ]
  },
  {
   "cell_type": "code",
   "execution_count": 349,
   "metadata": {},
   "outputs": [
    {
     "name": "stdout",
     "output_type": "stream",
     "text": [
      "{'_id': 'https://hhcdn.ru/click', 'tittle': 'Web-разработчик (1С-Битрикс)', 'site': 'hh.ru', 'company': 'ООО Джилаб', 'offer_min': 60000, 'offer_max': 150000, 'currency': 'руб', 'href': 'https://hhcdn.ru/click?b=189269&place=35', 'city': 'Москва, Ленинский проспект', 'date': None}\n",
      "{'_id': '37146832', 'tittle': 'Программист 1С', 'site': 'hh.ru', 'company': 'ЭЛИАС', 'offer_min': 130000, 'offer_max': 160000, 'currency': 'руб', 'href': 'https://novosibirsk.hh.ru/vacancy/37146832?query=%D0%BF%D1%80%D0%BE%D0%B3%D1%80%D0%B0%D0%BC%D0%BC%D0%B8%D1%81%D1%82%201%D0%A1', 'city': 'Москва, ВДНХ', 'date': '29 июня'}\n",
      "{'_id': '37293588', 'tittle': 'Программист 1С', 'site': 'hh.ru', 'company': 'Р-Лайн (R-Line)', 'offer_min': 120000, 'offer_max': 150000, 'currency': 'руб', 'href': 'https://novosibirsk.hh.ru/vacancy/37293588?query=%D0%BF%D1%80%D0%BE%D0%B3%D1%80%D0%B0%D0%BC%D0%BC%D0%B8%D1%81%D1%82%201%D0%A1', 'city': 'Санкт-Петербург, Лесная', 'date': '28 июня'}\n",
      "{'_id': '37739919', 'tittle': 'Ведущий программист 1C', 'site': 'hh.ru', 'company': 'ООО Интетт', 'offer_min': 130000, 'offer_max': None, 'currency': 'руб', 'href': 'https://novosibirsk.hh.ru/vacancy/37739919?query=%D0%BF%D1%80%D0%BE%D0%B3%D1%80%D0%B0%D0%BC%D0%BC%D0%B8%D1%81%D1%82%201%D0%A1', 'city': 'Москва, Волоколамская', 'date': '29 июня'}\n",
      "{'_id': '37377869', 'tittle': 'Программист-разработчик 1С Предприятие 8.3', 'site': 'hh.ru', 'company': 'LR.RU, Компания', 'offer_min': 120000, 'offer_max': 155000, 'currency': 'руб', 'href': 'https://novosibirsk.hh.ru/vacancy/37377869?query=%D0%BF%D1%80%D0%BE%D0%B3%D1%80%D0%B0%D0%BC%D0%BC%D0%B8%D1%81%D1%82%201%D0%A1', 'city': 'Москва', 'date': '30 июня'}\n"
     ]
    }
   ],
   "source": [
    "offer = 120000\n",
    "\n",
    "vacancies = db.hh.find({'$or' : [{'offer_min': {'$gt' : offer}}, {'offer_max': {'$gt' : offer}}]})\\\n",
    "                 .limit(5)\n",
    "\n",
    "for vacancy in vacancies:\n",
    "    print(vacancy)"
   ]
  },
  {
   "cell_type": "code",
   "execution_count": 350,
   "metadata": {},
   "outputs": [
    {
     "name": "stdout",
     "output_type": "stream",
     "text": [
      "{'_id': '33937924', 'tittle': 'Ведущий разработчик 1С ERP', 'site': 'superjob.ru', 'company': 'Первый БИТ', 'offer_min': None, 'offer_max': 200000, 'currency': 'руб', 'href': '/vakansii/veduschij-razrabotchik-1s-erp-33937924.html', 'city': 'Москва', 'date': '29 июня'}\n"
     ]
    }
   ],
   "source": [
    "offer = 120000\n",
    "\n",
    "vacancies = db.superjob.find({'$or' : [{'offer_min': {'$gt' : offer}}, {'offer_max': {'$gt' : offer}}]})\\\n",
    "                 .limit(5)\n",
    "\n",
    "for vacancy in vacancies:\n",
    "    print(vacancy)"
   ]
  },
  {
   "cell_type": "code",
   "execution_count": null,
   "metadata": {},
   "outputs": [],
   "source": []
  }
 ],
 "metadata": {
  "kernelspec": {
   "display_name": "Python 3",
   "language": "python",
   "name": "python3"
  },
  "language_info": {
   "codemirror_mode": {
    "name": "ipython",
    "version": 3
   },
   "file_extension": ".py",
   "mimetype": "text/x-python",
   "name": "python",
   "nbconvert_exporter": "python",
   "pygments_lexer": "ipython3",
   "version": "3.7.6"
  }
 },
 "nbformat": 4,
 "nbformat_minor": 4
}

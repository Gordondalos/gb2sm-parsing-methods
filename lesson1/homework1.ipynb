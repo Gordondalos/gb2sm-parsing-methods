{
 "cells": [
  {
   "cell_type": "code",
   "execution_count": 6,
   "metadata": {},
   "outputs": [],
   "source": [
    "import requests"
   ]
  },
  {
   "cell_type": "markdown",
   "metadata": {},
   "source": [
    "### Задание 1\n",
    "\n",
    "1. Посмотреть документацию к API GitHub, разобраться как вывести список репозиториев для конкретного пользователя, сохранить JSON-вывод в файле *.json."
   ]
  },
  {
   "cell_type": "code",
   "execution_count": 8,
   "metadata": {},
   "outputs": [],
   "source": [
    "main_url = 'https://api.github.com'\n",
    "url = '/users/%username%/repos'\n",
    "\n",
    "#it's me\n",
    "user = 'averyanovalex'"
   ]
  },
  {
   "cell_type": "code",
   "execution_count": 20,
   "metadata": {},
   "outputs": [
    {
     "data": {
      "text/plain": [
       "200"
      ]
     },
     "execution_count": 20,
     "metadata": {},
     "output_type": "execute_result"
    }
   ],
   "source": [
    "response = requests.get(main_url + url.replace('%username%', user))\n",
    "response.status_code"
   ]
  },
  {
   "cell_type": "code",
   "execution_count": 21,
   "metadata": {},
   "outputs": [
    {
     "data": {
      "text/plain": [
       "[{'id': 262387765,\n",
       "  'node_id': 'MDEwOlJlcG9zaXRvcnkyNjIzODc3NjU=',\n",
       "  'name': 'gb1sm-libs-for-ds',\n",
       "  'full_name': 'averyanovalex/gb1sm-libs-for-ds',\n",
       "  'private': False,\n",
       "  'owner': {'login': 'averyanovalex',\n",
       "   'id': 55646327,\n",
       "   'node_id': 'MDQ6VXNlcjU1NjQ2MzI3',\n",
       "   'avatar_url': 'https://avatars0.githubusercontent.com/u/55646327?v=4',\n",
       "   'gravatar_id': '',\n",
       "   'url': 'https://api.github.com/users/averyanovalex',\n",
       "   'html_url': 'https://github.com/averyanovalex',\n",
       "   'followers_url': 'https://api.github.com/users/averyanovalex/followers',\n",
       "   'following_url': 'https://api.github.com/users/averyanovalex/following{/other_user}',\n",
       "   'gists_url': 'https://api.github.com/users/averyanovalex/gists{/gist_id}',\n",
       "   'starred_url': 'https://api.github.com/users/averyanovalex/starred{/owner}{/repo}',\n",
       "   'subscriptions_url': 'https://api.github.com/users/averyanovalex/subscriptions',\n",
       "   'organizations_url': 'https://api.github.com/users/averyanovalex/orgs',\n",
       "   'repos_url': 'https://api.github.com/users/averyanovalex/repos',\n",
       "   'events_url': 'https://api.github.com/users/averyanovalex/events{/privacy}',\n",
       "   'received_events_url': 'https://api.github.com/users/averyanovalex/received_events',\n",
       "   'type': 'User',\n",
       "   'site_admin': False},\n",
       "  'html_url': 'https://github.com/averyanovalex/gb1sm-libs-for-ds',\n",
       "  'description': 'курс \"библиотеки Python для Data Science',\n",
       "  'fork': False,\n",
       "  'url': 'https://api.github.com/repos/averyanovalex/gb1sm-libs-for-ds',\n",
       "  'forks_url': 'https://api.github.com/repos/averyanovalex/gb1sm-libs-for-ds/forks',\n",
       "  'keys_url': 'https://api.github.com/repos/averyanovalex/gb1sm-libs-for-ds/keys{/key_id}',\n",
       "  'collaborators_url': 'https://api.github.com/repos/averyanovalex/gb1sm-libs-for-ds/collaborators{/collaborator}',\n",
       "  'teams_url': 'https://api.github.com/repos/averyanovalex/gb1sm-libs-for-ds/teams',\n",
       "  'hooks_url': 'https://api.github.com/repos/averyanovalex/gb1sm-libs-for-ds/hooks',\n",
       "  'issue_events_url': 'https://api.github.com/repos/averyanovalex/gb1sm-libs-for-ds/issues/events{/number}',\n",
       "  'events_url': 'https://api.github.com/repos/averyanovalex/gb1sm-libs-for-ds/events',\n",
       "  'assignees_url': 'https://api.github.com/repos/averyanovalex/gb1sm-libs-for-ds/assignees{/user}',\n",
       "  'branches_url': 'https://api.github.com/repos/averyanovalex/gb1sm-libs-for-ds/branches{/branch}',\n",
       "  'tags_url': 'https://api.github.com/repos/averyanovalex/gb1sm-libs-for-ds/tags',\n",
       "  'blobs_url': 'https://api.github.com/repos/averyanovalex/gb1sm-libs-for-ds/git/blobs{/sha}',\n",
       "  'git_tags_url': 'https://api.github.com/repos/averyanovalex/gb1sm-libs-for-ds/git/tags{/sha}',\n",
       "  'git_refs_url': 'https://api.github.com/repos/averyanovalex/gb1sm-libs-for-ds/git/refs{/sha}',\n",
       "  'trees_url': 'https://api.github.com/repos/averyanovalex/gb1sm-libs-for-ds/git/trees{/sha}',\n",
       "  'statuses_url': 'https://api.github.com/repos/averyanovalex/gb1sm-libs-for-ds/statuses/{sha}',\n",
       "  'languages_url': 'https://api.github.com/repos/averyanovalex/gb1sm-libs-for-ds/languages',\n",
       "  'stargazers_url': 'https://api.github.com/repos/averyanovalex/gb1sm-libs-for-ds/stargazers',\n",
       "  'contributors_url': 'https://api.github.com/repos/averyanovalex/gb1sm-libs-for-ds/contributors',\n",
       "  'subscribers_url': 'https://api.github.com/repos/averyanovalex/gb1sm-libs-for-ds/subscribers',\n",
       "  'subscription_url': 'https://api.github.com/repos/averyanovalex/gb1sm-libs-for-ds/subscription',\n",
       "  'commits_url': 'https://api.github.com/repos/averyanovalex/gb1sm-libs-for-ds/commits{/sha}',\n",
       "  'git_commits_url': 'https://api.github.com/repos/averyanovalex/gb1sm-libs-for-ds/git/commits{/sha}',\n",
       "  'comments_url': 'https://api.github.com/repos/averyanovalex/gb1sm-libs-for-ds/comments{/number}',\n",
       "  'issue_comment_url': 'https://api.github.com/repos/averyanovalex/gb1sm-libs-for-ds/issues/comments{/number}',\n",
       "  'contents_url': 'https://api.github.com/repos/averyanovalex/gb1sm-libs-for-ds/contents/{+path}',\n",
       "  'compare_url': 'https://api.github.com/repos/averyanovalex/gb1sm-libs-for-ds/compare/{base}...{head}',\n",
       "  'merges_url': 'https://api.github.com/repos/averyanovalex/gb1sm-libs-for-ds/merges',\n",
       "  'archive_url': 'https://api.github.com/repos/averyanovalex/gb1sm-libs-for-ds/{archive_format}{/ref}',\n",
       "  'downloads_url': 'https://api.github.com/repos/averyanovalex/gb1sm-libs-for-ds/downloads',\n",
       "  'issues_url': 'https://api.github.com/repos/averyanovalex/gb1sm-libs-for-ds/issues{/number}',\n",
       "  'pulls_url': 'https://api.github.com/repos/averyanovalex/gb1sm-libs-for-ds/pulls{/number}',\n",
       "  'milestones_url': 'https://api.github.com/repos/averyanovalex/gb1sm-libs-for-ds/milestones{/number}',\n",
       "  'notifications_url': 'https://api.github.com/repos/averyanovalex/gb1sm-libs-for-ds/notifications{?since,all,participating}',\n",
       "  'labels_url': 'https://api.github.com/repos/averyanovalex/gb1sm-libs-for-ds/labels{/name}',\n",
       "  'releases_url': 'https://api.github.com/repos/averyanovalex/gb1sm-libs-for-ds/releases{/id}',\n",
       "  'deployments_url': 'https://api.github.com/repos/averyanovalex/gb1sm-libs-for-ds/deployments',\n",
       "  'created_at': '2020-05-08T17:35:33Z',\n",
       "  'updated_at': '2020-06-10T17:49:51Z',\n",
       "  'pushed_at': '2020-06-10T17:49:45Z',\n",
       "  'git_url': 'git://github.com/averyanovalex/gb1sm-libs-for-ds.git',\n",
       "  'ssh_url': 'git@github.com:averyanovalex/gb1sm-libs-for-ds.git',\n",
       "  'clone_url': 'https://github.com/averyanovalex/gb1sm-libs-for-ds.git',\n",
       "  'svn_url': 'https://github.com/averyanovalex/gb1sm-libs-for-ds',\n",
       "  'homepage': None,\n",
       "  'size': 23773,\n",
       "  'stargazers_count': 0,\n",
       "  'watchers_count': 0,\n",
       "  'language': 'Jupyter Notebook',\n",
       "  'has_issues': True,\n",
       "  'has_projects': True,\n",
       "  'has_downloads': True,\n",
       "  'has_wiki': True,\n",
       "  'has_pages': False,\n",
       "  'forks_count': 0,\n",
       "  'mirror_url': None,\n",
       "  'archived': False,\n",
       "  'disabled': False,\n",
       "  'open_issues_count': 0,\n",
       "  'license': None,\n",
       "  'forks': 0,\n",
       "  'open_issues': 0,\n",
       "  'watchers': 0,\n",
       "  'default_branch': 'master'},\n",
       " {'id': 236038112,\n",
       "  'node_id': 'MDEwOlJlcG9zaXRvcnkyMzYwMzgxMTI=',\n",
       "  'name': 'OsEngine',\n",
       "  'full_name': 'averyanovalex/OsEngine',\n",
       "  'private': False,\n",
       "  'owner': {'login': 'averyanovalex',\n",
       "   'id': 55646327,\n",
       "   'node_id': 'MDQ6VXNlcjU1NjQ2MzI3',\n",
       "   'avatar_url': 'https://avatars0.githubusercontent.com/u/55646327?v=4',\n",
       "   'gravatar_id': '',\n",
       "   'url': 'https://api.github.com/users/averyanovalex',\n",
       "   'html_url': 'https://github.com/averyanovalex',\n",
       "   'followers_url': 'https://api.github.com/users/averyanovalex/followers',\n",
       "   'following_url': 'https://api.github.com/users/averyanovalex/following{/other_user}',\n",
       "   'gists_url': 'https://api.github.com/users/averyanovalex/gists{/gist_id}',\n",
       "   'starred_url': 'https://api.github.com/users/averyanovalex/starred{/owner}{/repo}',\n",
       "   'subscriptions_url': 'https://api.github.com/users/averyanovalex/subscriptions',\n",
       "   'organizations_url': 'https://api.github.com/users/averyanovalex/orgs',\n",
       "   'repos_url': 'https://api.github.com/users/averyanovalex/repos',\n",
       "   'events_url': 'https://api.github.com/users/averyanovalex/events{/privacy}',\n",
       "   'received_events_url': 'https://api.github.com/users/averyanovalex/received_events',\n",
       "   'type': 'User',\n",
       "   'site_admin': False},\n",
       "  'html_url': 'https://github.com/averyanovalex/OsEngine',\n",
       "  'description': 'Open Source algo trading platform',\n",
       "  'fork': True,\n",
       "  'url': 'https://api.github.com/repos/averyanovalex/OsEngine',\n",
       "  'forks_url': 'https://api.github.com/repos/averyanovalex/OsEngine/forks',\n",
       "  'keys_url': 'https://api.github.com/repos/averyanovalex/OsEngine/keys{/key_id}',\n",
       "  'collaborators_url': 'https://api.github.com/repos/averyanovalex/OsEngine/collaborators{/collaborator}',\n",
       "  'teams_url': 'https://api.github.com/repos/averyanovalex/OsEngine/teams',\n",
       "  'hooks_url': 'https://api.github.com/repos/averyanovalex/OsEngine/hooks',\n",
       "  'issue_events_url': 'https://api.github.com/repos/averyanovalex/OsEngine/issues/events{/number}',\n",
       "  'events_url': 'https://api.github.com/repos/averyanovalex/OsEngine/events',\n",
       "  'assignees_url': 'https://api.github.com/repos/averyanovalex/OsEngine/assignees{/user}',\n",
       "  'branches_url': 'https://api.github.com/repos/averyanovalex/OsEngine/branches{/branch}',\n",
       "  'tags_url': 'https://api.github.com/repos/averyanovalex/OsEngine/tags',\n",
       "  'blobs_url': 'https://api.github.com/repos/averyanovalex/OsEngine/git/blobs{/sha}',\n",
       "  'git_tags_url': 'https://api.github.com/repos/averyanovalex/OsEngine/git/tags{/sha}',\n",
       "  'git_refs_url': 'https://api.github.com/repos/averyanovalex/OsEngine/git/refs{/sha}',\n",
       "  'trees_url': 'https://api.github.com/repos/averyanovalex/OsEngine/git/trees{/sha}',\n",
       "  'statuses_url': 'https://api.github.com/repos/averyanovalex/OsEngine/statuses/{sha}',\n",
       "  'languages_url': 'https://api.github.com/repos/averyanovalex/OsEngine/languages',\n",
       "  'stargazers_url': 'https://api.github.com/repos/averyanovalex/OsEngine/stargazers',\n",
       "  'contributors_url': 'https://api.github.com/repos/averyanovalex/OsEngine/contributors',\n",
       "  'subscribers_url': 'https://api.github.com/repos/averyanovalex/OsEngine/subscribers',\n",
       "  'subscription_url': 'https://api.github.com/repos/averyanovalex/OsEngine/subscription',\n",
       "  'commits_url': 'https://api.github.com/repos/averyanovalex/OsEngine/commits{/sha}',\n",
       "  'git_commits_url': 'https://api.github.com/repos/averyanovalex/OsEngine/git/commits{/sha}',\n",
       "  'comments_url': 'https://api.github.com/repos/averyanovalex/OsEngine/comments{/number}',\n",
       "  'issue_comment_url': 'https://api.github.com/repos/averyanovalex/OsEngine/issues/comments{/number}',\n",
       "  'contents_url': 'https://api.github.com/repos/averyanovalex/OsEngine/contents/{+path}',\n",
       "  'compare_url': 'https://api.github.com/repos/averyanovalex/OsEngine/compare/{base}...{head}',\n",
       "  'merges_url': 'https://api.github.com/repos/averyanovalex/OsEngine/merges',\n",
       "  'archive_url': 'https://api.github.com/repos/averyanovalex/OsEngine/{archive_format}{/ref}',\n",
       "  'downloads_url': 'https://api.github.com/repos/averyanovalex/OsEngine/downloads',\n",
       "  'issues_url': 'https://api.github.com/repos/averyanovalex/OsEngine/issues{/number}',\n",
       "  'pulls_url': 'https://api.github.com/repos/averyanovalex/OsEngine/pulls{/number}',\n",
       "  'milestones_url': 'https://api.github.com/repos/averyanovalex/OsEngine/milestones{/number}',\n",
       "  'notifications_url': 'https://api.github.com/repos/averyanovalex/OsEngine/notifications{?since,all,participating}',\n",
       "  'labels_url': 'https://api.github.com/repos/averyanovalex/OsEngine/labels{/name}',\n",
       "  'releases_url': 'https://api.github.com/repos/averyanovalex/OsEngine/releases{/id}',\n",
       "  'deployments_url': 'https://api.github.com/repos/averyanovalex/OsEngine/deployments',\n",
       "  'created_at': '2020-01-24T16:21:33Z',\n",
       "  'updated_at': '2020-03-07T14:02:33Z',\n",
       "  'pushed_at': '2020-03-07T14:09:21Z',\n",
       "  'git_url': 'git://github.com/averyanovalex/OsEngine.git',\n",
       "  'ssh_url': 'git@github.com:averyanovalex/OsEngine.git',\n",
       "  'clone_url': 'https://github.com/averyanovalex/OsEngine.git',\n",
       "  'svn_url': 'https://github.com/averyanovalex/OsEngine',\n",
       "  'homepage': 'http://o-s-a.net',\n",
       "  'size': 147310,\n",
       "  'stargazers_count': 0,\n",
       "  'watchers_count': 0,\n",
       "  'language': 'C#',\n",
       "  'has_issues': False,\n",
       "  'has_projects': True,\n",
       "  'has_downloads': True,\n",
       "  'has_wiki': True,\n",
       "  'has_pages': False,\n",
       "  'forks_count': 0,\n",
       "  'mirror_url': None,\n",
       "  'archived': False,\n",
       "  'disabled': False,\n",
       "  'open_issues_count': 0,\n",
       "  'license': {'key': 'apache-2.0',\n",
       "   'name': 'Apache License 2.0',\n",
       "   'spdx_id': 'Apache-2.0',\n",
       "   'url': 'https://api.github.com/licenses/apache-2.0',\n",
       "   'node_id': 'MDc6TGljZW5zZTI='},\n",
       "  'forks': 0,\n",
       "  'open_issues': 0,\n",
       "  'watchers': 0,\n",
       "  'default_branch': 'master'}]"
      ]
     },
     "execution_count": 21,
     "metadata": {},
     "output_type": "execute_result"
    }
   ],
   "source": [
    "json = response.json()\n",
    "\n",
    "with open('repos.json', 'w', encoding='utf-8') as f:\n",
    "    f.write(response.text)\n",
    "    \n",
    "json"
   ]
  },
  {
   "cell_type": "code",
   "execution_count": 16,
   "metadata": {},
   "outputs": [
    {
     "name": "stdout",
     "output_type": "stream",
     "text": [
      "gb1sm-libs-for-ds\n",
      "OsEngine\n"
     ]
    }
   ],
   "source": [
    "for s in json:\n",
    "    print(s['name'])"
   ]
  },
  {
   "cell_type": "code",
   "execution_count": null,
   "metadata": {},
   "outputs": [],
   "source": []
  },
  {
   "cell_type": "markdown",
   "metadata": {},
   "source": [
    "### Задание 2\n",
    "\n",
    "2. Изучить список открытых API (https://www.programmableweb.com/category/all/apis). Найти среди них любое, требующее авторизацию (любого типа). Выполнить запросы к нему, пройдя авторизацию. Ответ сервера записать в файл.\n",
    "Если нет желания заморачиваться с поиском, возьмите API вконтакте (https://vk.com/dev/first_guide). Сделайте запрос, чтб получить список всех сообществ на которые вы подписаны."
   ]
  },
  {
   "cell_type": "code",
   "execution_count": 35,
   "metadata": {},
   "outputs": [],
   "source": [
    "access_token = 'XXX'\n",
    "main_url = 'https://api.vk.com/method/'"
   ]
  },
  {
   "cell_type": "code",
   "execution_count": 42,
   "metadata": {},
   "outputs": [],
   "source": [
    "#получаем список групп\n",
    "method = 'groups.get'\n",
    "params = {'access_token' : access_token, 'v' : '5.21'}\n",
    "\n",
    "response = requests.get(main_url + method, params=params).json()\n",
    "\n",
    "groups_list = response['response']['items']"
   ]
  },
  {
   "cell_type": "code",
   "execution_count": 52,
   "metadata": {},
   "outputs": [
    {
     "name": "stdout",
     "output_type": "stream",
     "text": [
      "Мои сообщества (первые 10):\n",
      "   (id: 152668434) Бизнес: изи-изи, рил ток, синк эбаут ит\n",
      "   (id: 33376556) Сноупарк \"Крутая Горка\". Адреналин\n",
      "   (id: 66924047) Блог Перфильева\n",
      "   (id: 7261713) Магазин Вертикаль Экстрим (Омск)\n",
      "   (id: 30666517) Типичный программист\n",
      "   (id: 159622314) 10 долларов Баффетта\n",
      "   (id: 159820536) Предприниматели | Бизнес в Омске\n",
      "   (id: 67170717) Фондю каждый день\n",
      "   (id: 119181640) ★ Секта ★\n",
      "   (id: 161664832) ON_ZHESTKOV\n"
     ]
    }
   ],
   "source": [
    "#выбираем первые 10 читаем и выводим на экран\n",
    "def get_group_name_by_api(group_id):\n",
    "    method = 'groups.getById'\n",
    "    params = {'access_token' : access_token, 'v' : '5.21', 'group_id' : group_id}\n",
    "    \n",
    "    response = requests.get(main_url + method, params=params).json()\n",
    "    return response['response'][0]['name']\n",
    "    \n",
    "\n",
    "print('Мои сообщества (первые 10):')\n",
    "for group_id in  groups_list[0:10]:\n",
    "    group_name = get_group_name_by_api(group_id)\n",
    "    print(f'   (id: {group_id}) {group_name}')"
   ]
  },
  {
   "cell_type": "code",
   "execution_count": null,
   "metadata": {},
   "outputs": [],
   "source": []
  }
 ],
 "metadata": {
  "kernelspec": {
   "display_name": "Python 3",
   "language": "python",
   "name": "python3"
  },
  "language_info": {
   "codemirror_mode": {
    "name": "ipython",
    "version": 3
   },
   "file_extension": ".py",
   "mimetype": "text/x-python",
   "name": "python",
   "nbconvert_exporter": "python",
   "pygments_lexer": "ipython3",
   "version": "3.7.6"
  }
 },
 "nbformat": 4,
 "nbformat_minor": 4
}
